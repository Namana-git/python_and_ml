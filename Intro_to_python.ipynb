{
 "cells": [
  {
   "cell_type": "markdown",
   "metadata": {},
   "source": [
    "## Intro to python\n",
    "- Python is a high level, general purpose widely used programming language.\n",
    "- Its extensively used for machine learning, Web scrapping, image processing, scientific computing and so on"
   ]
  },
  {
   "cell_type": "markdown",
   "metadata": {},
   "source": [
    "## Python3 basics\n",
    "\n",
    "- Variables: In Python 3, variables are created by assigning a value to a name. For example, x = 5 creates a variable called x and assigns the value 5 to it.\n",
    "- Data types: Python 3 supports several built-in data types, including integers, floats, strings, booleans, lists, tuples, and dictionaries.\n",
    "- Operators: Python 3 supports a variety of operators, including arithmetic operators (+, -, *, /), comparison operators (>, <, ==, !=), and logical operators (and, or, not).\n",
    "- Control flow statements: Python 3 supports several control flow statements, including if-else statements, for loops, and while loops. These statements allow you to control the flow of execution in your code.\n",
    "- Functions: In Python 3, functions are created using the def keyword. For example, def my_function(x): creates a function called my_function that takes one argument called x.\n",
    "- Input and output: In Python 3, you can use the input() function to get user input, and the print() function to output text to the console.\n",
    "- Modules: Python 3 supports modules, which are collections of functions and variables that can be imported and used in other Python code. You can import modules using the import keyword\n"
   ]
  },
  {
   "cell_type": "code",
   "execution_count": 2,
   "metadata": {},
   "outputs": [
    {
     "name": "stdout",
     "output_type": "stream",
     "text": [
      "<class 'int'>\n",
      "<class 'float'>\n",
      "<class 'str'>\n"
     ]
    }
   ],
   "source": [
    "#python code to illustrate variables and data types\n",
    "\n",
    "x = 2   #define variable x and assign a integer value\n",
    "y = 2.0  #define variable y and assign a float value\n",
    "a = 'hello' #define variable a and assign a string value\n",
    "\n",
    "print(type(x))\n",
    "print(type(y))\n",
    "print(type(a))\n",
    "\n"
   ]
  },
  {
   "cell_type": "code",
   "execution_count": 8,
   "metadata": {},
   "outputs": [
    {
     "name": "stdout",
     "output_type": "stream",
     "text": [
      "5 <class 'int'>\n",
      "1 <class 'int'>\n",
      "6 <class 'int'>\n",
      "1.5 <class 'float'>\n",
      "1 <class 'int'>\n",
      "5.0 <class 'float'>\n",
      "1.0 <class 'float'>\n",
      "6.0 <class 'float'>\n",
      "1.5 <class 'float'>\n",
      "1.0 <class 'float'>\n"
     ]
    }
   ],
   "source": [
    "# python code to illustrate operators\n",
    "x = 3\n",
    "y =2\n",
    "\n",
    "print(x+y,type(x+y))\n",
    "print(x-y,type(x-y))\n",
    "print(x*y,type(x*y))\n",
    "print(x/y,type(x/y))  #float division\n",
    "print(x//y,type(x//y)) # integer division\n",
    "\n",
    "x = 3.0\n",
    "y =2.0\n",
    "\n",
    "print(x+y,type(x+y))\n",
    "print(x-y,type(x-y))\n",
    "print(x*y,type(x*y))\n",
    "print(x/y,type(x/y))  #float division\n",
    "print(x//y,type(x//y)) "
   ]
  },
  {
   "cell_type": "code",
   "execution_count": 25,
   "metadata": {},
   "outputs": [
    {
     "name": "stdout",
     "output_type": "stream",
     "text": [
      "for loop\n",
      "1\n",
      "2\n",
      "3\n",
      "4\n",
      "5\n",
      "6\n",
      "7\n",
      "8\n",
      "9\n",
      "while loop\n",
      "0\n",
      "1\n",
      "2\n",
      "3\n",
      "4\n",
      "if-else statements\n",
      "x is even\n"
     ]
    }
   ],
   "source": [
    "# python code that demonstrates various control statements\n",
    "start = 1\n",
    "stop =10\n",
    "step = 1\n",
    "# for loop\n",
    "print('for loop')\n",
    "for i in range(start,stop,step):\n",
    "    print(i)\n",
    "x=0\n",
    "print('while loop')\n",
    "while(x<5):\n",
    "    print(x)\n",
    "    x+=1    #x=x+1\n",
    "\n",
    "print('if-else statements')\n",
    "\n",
    "x = int(4)\n",
    "if(x%2 == 0): # % is mod operator\n",
    "   print('x is even')\n",
    "else:\n",
    "   print('x is odd')"
   ]
  },
  {
   "cell_type": "code",
   "execution_count": 30,
   "metadata": {},
   "outputs": [
    {
     "name": "stdout",
     "output_type": "stream",
     "text": [
      "64\n"
     ]
    }
   ],
   "source": [
    "#python code to demonstrate functions\n",
    "\n",
    "# if u have lines of code performing a specific action used repeatedly in the programme. you can define a function for that part of code\n",
    "# and call the function whenever needed rater than repeating the lines of code \n",
    "\n",
    "def cube(x):\n",
    "    y = x**3\n",
    "    return y\n",
    "\n",
    "a = 4\n",
    "print(cube(a))"
   ]
  }
 ],
 "metadata": {
  "kernelspec": {
   "display_name": "Python 3",
   "language": "python",
   "name": "python3"
  },
  "language_info": {
   "codemirror_mode": {
    "name": "ipython",
    "version": 3
   },
   "file_extension": ".py",
   "mimetype": "text/x-python",
   "name": "python",
   "nbconvert_exporter": "python",
   "pygments_lexer": "ipython3",
   "version": "3.6.9"
  }
 },
 "nbformat": 4,
 "nbformat_minor": 2
}
