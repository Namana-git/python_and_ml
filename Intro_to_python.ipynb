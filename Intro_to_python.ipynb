{
 "cells": [
  {
   "cell_type": "markdown",
   "metadata": {},
   "source": [
    "## Intro to python\n",
    "- Python is a high level, general purpose widely used programming language.\n",
    "- Its extensively used for machine learning, Web scrapping, image processing, scientific computing and so on"
   ]
  }
 ],
 "metadata": {
  "language_info": {
   "name": "python"
  }
 },
 "nbformat": 4,
 "nbformat_minor": 2
}
